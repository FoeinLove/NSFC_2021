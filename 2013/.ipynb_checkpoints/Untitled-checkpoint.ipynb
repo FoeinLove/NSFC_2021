{
 "cells": [
  {
   "cell_type": "code",
   "execution_count": 19,
   "metadata": {},
   "outputs": [],
   "source": [
    "import pandas as pd"
   ]
  },
  {
   "cell_type": "code",
   "execution_count": 68,
   "metadata": {},
   "outputs": [],
   "source": [
    "d1 = pd.read_stata('Biomarker.dta')"
   ]
  },
  {
   "cell_type": "code",
   "execution_count": 69,
   "metadata": {},
   "outputs": [
    {
     "data": {
      "text/plain": [
       "(13169, 239)"
      ]
     },
     "execution_count": 69,
     "metadata": {},
     "output_type": "execute_result"
    }
   ],
   "source": [
    "d1.shape"
   ]
  },
  {
   "cell_type": "code",
   "execution_count": 70,
   "metadata": {},
   "outputs": [
    {
     "data": {
      "text/html": [
       "<div>\n",
       "<style scoped>\n",
       "    .dataframe tbody tr th:only-of-type {\n",
       "        vertical-align: middle;\n",
       "    }\n",
       "\n",
       "    .dataframe tbody tr th {\n",
       "        vertical-align: top;\n",
       "    }\n",
       "\n",
       "    .dataframe thead th {\n",
       "        text-align: right;\n",
       "    }\n",
       "</style>\n",
       "<table border=\"1\" class=\"dataframe\">\n",
       "  <thead>\n",
       "    <tr style=\"text-align: right;\">\n",
       "      <th></th>\n",
       "      <th>ID</th>\n",
       "      <th>householdID</th>\n",
       "      <th>communityID</th>\n",
       "      <th>pa001</th>\n",
       "      <th>pa002</th>\n",
       "      <th>qa001s1</th>\n",
       "      <th>qa001s2</th>\n",
       "      <th>qa001s3</th>\n",
       "      <th>qa001s4</th>\n",
       "      <th>qa001s5</th>\n",
       "      <th>...</th>\n",
       "      <th>qm003s2</th>\n",
       "      <th>qm003s3</th>\n",
       "      <th>qm003s4</th>\n",
       "      <th>qm003s5</th>\n",
       "      <th>qm003s6</th>\n",
       "      <th>qm003s97</th>\n",
       "      <th>qm003_1</th>\n",
       "      <th>qm004</th>\n",
       "      <th>qm005</th>\n",
       "      <th>versionID</th>\n",
       "    </tr>\n",
       "  </thead>\n",
       "  <tbody>\n",
       "    <tr>\n",
       "      <th>0</th>\n",
       "      <td>010104101001</td>\n",
       "      <td>0101041010</td>\n",
       "      <td>0101041</td>\n",
       "      <td>5 No</td>\n",
       "      <td>1 Yes</td>\n",
       "      <td>NaN</td>\n",
       "      <td>NaN</td>\n",
       "      <td>NaN</td>\n",
       "      <td>NaN</td>\n",
       "      <td>NaN</td>\n",
       "      <td>...</td>\n",
       "      <td>NaN</td>\n",
       "      <td>NaN</td>\n",
       "      <td>NaN</td>\n",
       "      <td>NaN</td>\n",
       "      <td>NaN</td>\n",
       "      <td>NaN</td>\n",
       "      <td></td>\n",
       "      <td>1 R was fully compliant</td>\n",
       "      <td>5 No</td>\n",
       "      <td>20151118</td>\n",
       "    </tr>\n",
       "    <tr>\n",
       "      <th>1</th>\n",
       "      <td>010104101002</td>\n",
       "      <td>0101041010</td>\n",
       "      <td>0101041</td>\n",
       "      <td>5 No</td>\n",
       "      <td>1 Yes</td>\n",
       "      <td>NaN</td>\n",
       "      <td>NaN</td>\n",
       "      <td>NaN</td>\n",
       "      <td>NaN</td>\n",
       "      <td>NaN</td>\n",
       "      <td>...</td>\n",
       "      <td>NaN</td>\n",
       "      <td>NaN</td>\n",
       "      <td>NaN</td>\n",
       "      <td>NaN</td>\n",
       "      <td>NaN</td>\n",
       "      <td>NaN</td>\n",
       "      <td></td>\n",
       "      <td>1 R was fully compliant</td>\n",
       "      <td>1 Yes</td>\n",
       "      <td>20151118</td>\n",
       "    </tr>\n",
       "    <tr>\n",
       "      <th>2</th>\n",
       "      <td>010104102002</td>\n",
       "      <td>0101041020</td>\n",
       "      <td>0101041</td>\n",
       "      <td>5 No</td>\n",
       "      <td>1 Yes</td>\n",
       "      <td>NaN</td>\n",
       "      <td>NaN</td>\n",
       "      <td>NaN</td>\n",
       "      <td>NaN</td>\n",
       "      <td>NaN</td>\n",
       "      <td>...</td>\n",
       "      <td>NaN</td>\n",
       "      <td>NaN</td>\n",
       "      <td>NaN</td>\n",
       "      <td>NaN</td>\n",
       "      <td>NaN</td>\n",
       "      <td>NaN</td>\n",
       "      <td></td>\n",
       "      <td>1 R was fully compliant</td>\n",
       "      <td>5 No</td>\n",
       "      <td>20151118</td>\n",
       "    </tr>\n",
       "    <tr>\n",
       "      <th>3</th>\n",
       "      <td>010104103001</td>\n",
       "      <td>0101041030</td>\n",
       "      <td>0101041</td>\n",
       "      <td>5 No</td>\n",
       "      <td>1 Yes</td>\n",
       "      <td>NaN</td>\n",
       "      <td>NaN</td>\n",
       "      <td>NaN</td>\n",
       "      <td>NaN</td>\n",
       "      <td>NaN</td>\n",
       "      <td>...</td>\n",
       "      <td>NaN</td>\n",
       "      <td>NaN</td>\n",
       "      <td>NaN</td>\n",
       "      <td>NaN</td>\n",
       "      <td>NaN</td>\n",
       "      <td>NaN</td>\n",
       "      <td></td>\n",
       "      <td>1 R was fully compliant</td>\n",
       "      <td>1 Yes</td>\n",
       "      <td>20151118</td>\n",
       "    </tr>\n",
       "    <tr>\n",
       "      <th>4</th>\n",
       "      <td>010104103002</td>\n",
       "      <td>0101041030</td>\n",
       "      <td>0101041</td>\n",
       "      <td>5 No</td>\n",
       "      <td>1 Yes</td>\n",
       "      <td>NaN</td>\n",
       "      <td>NaN</td>\n",
       "      <td>NaN</td>\n",
       "      <td>NaN</td>\n",
       "      <td>NaN</td>\n",
       "      <td>...</td>\n",
       "      <td>NaN</td>\n",
       "      <td>NaN</td>\n",
       "      <td>NaN</td>\n",
       "      <td>NaN</td>\n",
       "      <td>NaN</td>\n",
       "      <td>NaN</td>\n",
       "      <td></td>\n",
       "      <td>1 R was fully compliant</td>\n",
       "      <td>5 No</td>\n",
       "      <td>20151118</td>\n",
       "    </tr>\n",
       "  </tbody>\n",
       "</table>\n",
       "<p>5 rows × 239 columns</p>\n",
       "</div>"
      ],
      "text/plain": [
       "             ID householdID communityID pa001  pa002 qa001s1 qa001s2 qa001s3  \\\n",
       "0  010104101001  0101041010     0101041  5 No  1 Yes     NaN     NaN     NaN   \n",
       "1  010104101002  0101041010     0101041  5 No  1 Yes     NaN     NaN     NaN   \n",
       "2  010104102002  0101041020     0101041  5 No  1 Yes     NaN     NaN     NaN   \n",
       "3  010104103001  0101041030     0101041  5 No  1 Yes     NaN     NaN     NaN   \n",
       "4  010104103002  0101041030     0101041  5 No  1 Yes     NaN     NaN     NaN   \n",
       "\n",
       "  qa001s4 qa001s5  ... qm003s2 qm003s3 qm003s4 qm003s5 qm003s6 qm003s97  \\\n",
       "0     NaN     NaN  ...     NaN     NaN     NaN     NaN     NaN      NaN   \n",
       "1     NaN     NaN  ...     NaN     NaN     NaN     NaN     NaN      NaN   \n",
       "2     NaN     NaN  ...     NaN     NaN     NaN     NaN     NaN      NaN   \n",
       "3     NaN     NaN  ...     NaN     NaN     NaN     NaN     NaN      NaN   \n",
       "4     NaN     NaN  ...     NaN     NaN     NaN     NaN     NaN      NaN   \n",
       "\n",
       "  qm003_1                    qm004  qm005  versionID  \n",
       "0          1 R was fully compliant   5 No   20151118  \n",
       "1          1 R was fully compliant  1 Yes   20151118  \n",
       "2          1 R was fully compliant   5 No   20151118  \n",
       "3          1 R was fully compliant  1 Yes   20151118  \n",
       "4          1 R was fully compliant   5 No   20151118  \n",
       "\n",
       "[5 rows x 239 columns]"
      ]
     },
     "execution_count": 70,
     "metadata": {},
     "output_type": "execute_result"
    }
   ],
   "source": [
    "d1.head()"
   ]
  },
  {
   "cell_type": "code",
   "execution_count": 71,
   "metadata": {},
   "outputs": [
    {
     "data": {
      "text/plain": [
       "235"
      ]
     },
     "execution_count": 71,
     "metadata": {},
     "output_type": "execute_result"
    }
   ],
   "source": [
    "239   -4"
   ]
  },
  {
   "cell_type": "code",
   "execution_count": null,
   "metadata": {},
   "outputs": [],
   "source": []
  }
 ],
 "metadata": {
  "kernelspec": {
   "display_name": "Python 3",
   "language": "python",
   "name": "python3"
  },
  "language_info": {
   "codemirror_mode": {
    "name": "ipython",
    "version": 3
   },
   "file_extension": ".py",
   "mimetype": "text/x-python",
   "name": "python",
   "nbconvert_exporter": "python",
   "pygments_lexer": "ipython3",
   "version": "3.8.3"
  }
 },
 "nbformat": 4,
 "nbformat_minor": 4
}
